{
 "cells": [
  {
   "cell_type": "markdown",
   "id": "d706be9b-c46d-4062-ae10-e68db8e4dc2d",
   "metadata": {},
   "source": [
    "# Data Science Tools and Ecosystem"
   ]
  },
  {
   "cell_type": "markdown",
   "id": "df059f29-48af-41ec-9cdd-539589468ee9",
   "metadata": {},
   "source": [
    " In this notebook, Data Science Tools and Ecosystem are summarized."
   ]
  },
  {
   "cell_type": "markdown",
   "id": "18e11313-76dd-49e5-9ba5-a2e690d4b176",
   "metadata": {},
   "source": [
    "**Objectives:**\n",
    "* popular languages for Data Science\n",
    "* common  libraries for Data Science\n",
    "* few examples of evaluating arithmetic expressions in Python"
   ]
  },
  {
   "cell_type": "markdown",
   "id": "5c73efaa-f690-4b34-8d6d-95f5c647218f",
   "metadata": {},
   "source": [
    "Some of the popular languages that Data Scientists use are:\n",
    "1. Python\n",
    "2. R\n",
    "3. SQL"
   ]
  },
  {
   "cell_type": "markdown",
   "id": "351bed1a-65d7-4510-adbb-5d65f2c80379",
   "metadata": {},
   "source": [
    "Some of the commonly used libraries used by Data Scientists include:\n",
    "1. Matplotlib\n",
    "2. Pandas\n",
    "3. Numpy"
   ]
  },
  {
   "cell_type": "markdown",
   "id": "2807cb14-438b-4c2f-bd4a-2a9afbdc0038",
   "metadata": {},
   "source": [
    "|Data Science Tools|\n",
    "--------------------\n",
    "RStudio|\n",
    "Jupyter Notebook|\n",
    "TensorFlow|"
   ]
  },
  {
   "cell_type": "markdown",
   "id": "d91923a6-c75c-44c6-bec7-6ab0a53164ea",
   "metadata": {},
   "source": [
    "### Below are a few examples of evaluating arithmetic expressions in Python"
   ]
  },
  {
   "cell_type": "markdown",
   "id": "5d2df847-3436-421e-9417-18b0d61bf52f",
   "metadata": {},
   "source": [
    "# This a simple arithmetic expression to mutiply then add integers"
   ]
  },
  {
   "cell_type": "code",
   "execution_count": 19,
   "id": "a8f7eb59-f97f-4b3b-9d67-0233dcc0afd8",
   "metadata": {},
   "outputs": [
    {
     "data": {
      "text/plain": [
       "17"
      ]
     },
     "execution_count": 19,
     "metadata": {},
     "output_type": "execute_result"
    }
   ],
   "source": [
    "(3*4)+5"
   ]
  },
  {
   "cell_type": "code",
   "execution_count": 20,
   "id": "f64cf054-738e-48b0-9d99-f637db3f8ff6",
   "metadata": {},
   "outputs": [],
   "source": [
    "# This will convert 200 minutes to hours by diving by 60"
   ]
  },
  {
   "cell_type": "code",
   "execution_count": 21,
   "id": "e85fd043-8874-48b0-acca-48b989bdd9af",
   "metadata": {},
   "outputs": [
    {
     "data": {
      "text/plain": [
       "3"
      ]
     },
     "execution_count": 21,
     "metadata": {},
     "output_type": "execute_result"
    }
   ],
   "source": [
    "int(200/60) #hours"
   ]
  },
  {
   "cell_type": "code",
   "execution_count": 22,
   "id": "a450c219-e868-4821-b49b-6544f213a4b2",
   "metadata": {},
   "outputs": [
    {
     "data": {
      "text/plain": [
       "20"
      ]
     },
     "execution_count": 22,
     "metadata": {},
     "output_type": "execute_result"
    }
   ],
   "source": [
    "200%60 #minutes"
   ]
  },
  {
   "cell_type": "markdown",
   "id": "ae308183-bc3a-44d5-87f5-d6abc375d193",
   "metadata": {},
   "source": [
    "## Author:\n",
    "Parisa Mahdavinia"
   ]
  },
  {
   "cell_type": "code",
   "execution_count": null,
   "id": "aae681b1-4467-4963-a38b-725092fd951a",
   "metadata": {},
   "outputs": [],
   "source": []
  }
 ],
 "metadata": {
  "kernelspec": {
   "display_name": "Python 3 (ipykernel)",
   "language": "python",
   "name": "python3"
  },
  "language_info": {
   "codemirror_mode": {
    "name": "ipython",
    "version": 3
   },
   "file_extension": ".py",
   "mimetype": "text/x-python",
   "name": "python",
   "nbconvert_exporter": "python",
   "pygments_lexer": "ipython3",
   "version": "3.8.3"
  }
 },
 "nbformat": 4,
 "nbformat_minor": 5
}
